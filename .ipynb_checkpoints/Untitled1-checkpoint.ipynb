{
 "cells": [
  {
   "cell_type": "code",
   "execution_count": 13,
   "metadata": {},
   "outputs": [
    {
     "ename": "IndentationError",
     "evalue": "unindent does not match any outer indentation level (<tokenize>, line 16)",
     "output_type": "error",
     "traceback": [
      "\u001b[1;36m  File \u001b[1;32m\"<tokenize>\"\u001b[1;36m, line \u001b[1;32m16\u001b[0m\n\u001b[1;33m    \"\"\"\"   startJVM(\u001b[0m\n\u001b[1;37m    ^\u001b[0m\n\u001b[1;31mIndentationError\u001b[0m\u001b[1;31m:\u001b[0m unindent does not match any outer indentation level\n"
     ]
    }
   ],
   "source": [
    "\"\"\"\n",
    "Zemberek: Word Analysis Example\n",
    "Documentation: https://bit.ly/2MTmfr1\n",
    "Java Code Example: https://bit.ly/2MV2Hmj\n",
    "\"\"\"\n",
    "\n",
    "from os.path import join\n",
    "\n",
    "from jpype import JClass, JString, getDefaultJVMPath, shutdownJVM, startJVM\n",
    "\n",
    "if __name__ == '__main__':\n",
    "\n",
    "    ZEMBEREK_PATH: str = join('..', '..', 'bin', 'zemberek-full.jar')\n",
    "\n",
    "\n",
    " \"\"\"\"   startJVM(\n",
    "        getDefaultJVMPath(),\n",
    "        '-ea',\n",
    "        f'-Djava.class.path={ZEMBEREK_PATH}',\n",
    "        convertStrings=False\n",
    "    )\n",
    "\"\"\"\"\n",
    "    TurkishMorphology: JClass = JClass('zemberek.morphology.TurkishMorphology')\n",
    "    AnalysisFormatters: JClass = JClass(\n",
    "        'zemberek.morphology.analysis.AnalysisFormatters'\n",
    "    )\n",
    "    WordAnalysis: JClass = JClass('zemberek.morphology.analysis.WordAnalysis')\n",
    "\n",
    "    morphology: TurkishMorphology = TurkishMorphology.createWithDefaults()\n",
    "\n",
    "    word: str = 'kalemi'\n",
    "\n",
    "    print(f'\\nWord: {word}')\n",
    "\n",
    "    results: WordAnalysis = morphology.analyze(JString(word))\n",
    "\n",
    "    for result in results:\n",
    "        print(\n",
    "            f'\\nLexical and Surface: {str(result.formatLong())}'\n",
    "            f'\\nOnly Lexical: {str(result.formatLexical())}'\n",
    "            '\\nOflazer Style:'\n",
    "            f'{str(AnalysisFormatters.OFLAZER_STYLE.format(result))}'\n",
    "        )\n"
   ]
  },
  {
   "cell_type": "code",
   "execution_count": null,
   "metadata": {},
   "outputs": [],
   "source": []
  },
  {
   "cell_type": "code",
   "execution_count": null,
   "metadata": {},
   "outputs": [],
   "source": []
  }
 ],
 "metadata": {
  "kernelspec": {
   "display_name": "Python 3",
   "language": "python",
   "name": "python3"
  },
  "language_info": {
   "codemirror_mode": {
    "name": "ipython",
    "version": 3
   },
   "file_extension": ".py",
   "mimetype": "text/x-python",
   "name": "python",
   "nbconvert_exporter": "python",
   "pygments_lexer": "ipython3",
   "version": "3.7.4"
  }
 },
 "nbformat": 4,
 "nbformat_minor": 4
}
